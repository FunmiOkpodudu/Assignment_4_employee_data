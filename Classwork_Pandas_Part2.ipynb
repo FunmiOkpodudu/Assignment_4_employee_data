{
 "cells": [
  {
   "cell_type": "code",
   "execution_count": 1,
   "id": "74f98494",
   "metadata": {},
   "outputs": [],
   "source": [
    "import pandas as pd"
   ]
  },
  {
   "cell_type": "code",
   "execution_count": 2,
   "id": "9636d6db",
   "metadata": {},
   "outputs": [],
   "source": [
    "employee_2challenge = pd.read_csv('employee_data.csv')"
   ]
  },
  {
   "cell_type": "code",
   "execution_count": 3,
   "id": "6646daf4",
   "metadata": {},
   "outputs": [
    {
     "data": {
      "text/html": [
       "<div>\n",
       "<style scoped>\n",
       "    .dataframe tbody tr th:only-of-type {\n",
       "        vertical-align: middle;\n",
       "    }\n",
       "\n",
       "    .dataframe tbody tr th {\n",
       "        vertical-align: top;\n",
       "    }\n",
       "\n",
       "    .dataframe thead th {\n",
       "        text-align: right;\n",
       "    }\n",
       "</style>\n",
       "<table border=\"1\" class=\"dataframe\">\n",
       "  <thead>\n",
       "    <tr style=\"text-align: right;\">\n",
       "      <th></th>\n",
       "      <th>First Name</th>\n",
       "      <th>Surname</th>\n",
       "      <th>Department</th>\n",
       "      <th>Salary</th>\n",
       "    </tr>\n",
       "  </thead>\n",
       "  <tbody>\n",
       "    <tr>\n",
       "      <th>0</th>\n",
       "      <td>Isabella</td>\n",
       "      <td>Garcia</td>\n",
       "      <td>Marketing</td>\n",
       "      <td>108268</td>\n",
       "    </tr>\n",
       "    <tr>\n",
       "      <th>1</th>\n",
       "      <td>David</td>\n",
       "      <td>Garcia</td>\n",
       "      <td>Marketing</td>\n",
       "      <td>83567</td>\n",
       "    </tr>\n",
       "    <tr>\n",
       "      <th>2</th>\n",
       "      <td>Isabella</td>\n",
       "      <td>Smith</td>\n",
       "      <td>Marketing</td>\n",
       "      <td>82613</td>\n",
       "    </tr>\n",
       "    <tr>\n",
       "      <th>3</th>\n",
       "      <td>Jane</td>\n",
       "      <td>Jones</td>\n",
       "      <td>HR</td>\n",
       "      <td>85891</td>\n",
       "    </tr>\n",
       "    <tr>\n",
       "      <th>4</th>\n",
       "      <td>Emma</td>\n",
       "      <td>Wilson</td>\n",
       "      <td>Finance</td>\n",
       "      <td>61243</td>\n",
       "    </tr>\n",
       "  </tbody>\n",
       "</table>\n",
       "</div>"
      ],
      "text/plain": [
       "  First Name Surname Department  Salary\n",
       "0   Isabella  Garcia  Marketing  108268\n",
       "1      David  Garcia  Marketing   83567\n",
       "2   Isabella   Smith  Marketing   82613\n",
       "3       Jane   Jones         HR   85891\n",
       "4       Emma  Wilson    Finance   61243"
      ]
     },
     "execution_count": 3,
     "metadata": {},
     "output_type": "execute_result"
    }
   ],
   "source": [
    "employee_2challenge.head()"
   ]
  },
  {
   "cell_type": "code",
   "execution_count": 4,
   "id": "b9ef5712",
   "metadata": {},
   "outputs": [
    {
     "data": {
      "text/html": [
       "<div>\n",
       "<style scoped>\n",
       "    .dataframe tbody tr th:only-of-type {\n",
       "        vertical-align: middle;\n",
       "    }\n",
       "\n",
       "    .dataframe tbody tr th {\n",
       "        vertical-align: top;\n",
       "    }\n",
       "\n",
       "    .dataframe thead th {\n",
       "        text-align: right;\n",
       "    }\n",
       "</style>\n",
       "<table border=\"1\" class=\"dataframe\">\n",
       "  <thead>\n",
       "    <tr style=\"text-align: right;\">\n",
       "      <th></th>\n",
       "      <th>First Name</th>\n",
       "      <th>Surname</th>\n",
       "      <th>Department</th>\n",
       "      <th>Salary</th>\n",
       "    </tr>\n",
       "  </thead>\n",
       "  <tbody>\n",
       "    <tr>\n",
       "      <th>595</th>\n",
       "      <td>Matthew</td>\n",
       "      <td>Brown</td>\n",
       "      <td>Marketing</td>\n",
       "      <td>77292</td>\n",
       "    </tr>\n",
       "    <tr>\n",
       "      <th>596</th>\n",
       "      <td>Michael</td>\n",
       "      <td>Williams</td>\n",
       "      <td>Engineering</td>\n",
       "      <td>139131</td>\n",
       "    </tr>\n",
       "    <tr>\n",
       "      <th>597</th>\n",
       "      <td>Jane</td>\n",
       "      <td>Smith</td>\n",
       "      <td>Engineering</td>\n",
       "      <td>115577</td>\n",
       "    </tr>\n",
       "    <tr>\n",
       "      <th>598</th>\n",
       "      <td>John</td>\n",
       "      <td>Brown</td>\n",
       "      <td>Marketing</td>\n",
       "      <td>95986</td>\n",
       "    </tr>\n",
       "    <tr>\n",
       "      <th>599</th>\n",
       "      <td>Matthew</td>\n",
       "      <td>Williams</td>\n",
       "      <td>Marketing</td>\n",
       "      <td>50413</td>\n",
       "    </tr>\n",
       "  </tbody>\n",
       "</table>\n",
       "</div>"
      ],
      "text/plain": [
       "    First Name   Surname   Department  Salary\n",
       "595    Matthew     Brown    Marketing   77292\n",
       "596    Michael  Williams  Engineering  139131\n",
       "597       Jane     Smith  Engineering  115577\n",
       "598       John     Brown    Marketing   95986\n",
       "599    Matthew  Williams    Marketing   50413"
      ]
     },
     "execution_count": 4,
     "metadata": {},
     "output_type": "execute_result"
    }
   ],
   "source": [
    "employee_2challenge.tail()"
   ]
  },
  {
   "cell_type": "code",
   "execution_count": 5,
   "id": "594bf51f",
   "metadata": {},
   "outputs": [
    {
     "name": "stdout",
     "output_type": "stream",
     "text": [
      "<class 'pandas.core.frame.DataFrame'>\n",
      "RangeIndex: 600 entries, 0 to 599\n",
      "Data columns (total 4 columns):\n",
      " #   Column      Non-Null Count  Dtype \n",
      "---  ------      --------------  ----- \n",
      " 0   First Name  600 non-null    object\n",
      " 1   Surname     600 non-null    object\n",
      " 2   Department  600 non-null    object\n",
      " 3   Salary      600 non-null    int64 \n",
      "dtypes: int64(1), object(3)\n",
      "memory usage: 18.9+ KB\n"
     ]
    }
   ],
   "source": [
    "employee_2challenge.info()"
   ]
  },
  {
   "cell_type": "markdown",
   "id": "3c300ade",
   "metadata": {},
   "source": [
    "# 11. Add 10% bonus to employee salary and create a column called Employee Bonus"
   ]
  },
  {
   "cell_type": "code",
   "execution_count": 8,
   "id": "8759969b",
   "metadata": {},
   "outputs": [],
   "source": [
    "employee_2challenge['Employee_bonus'] = employee_2challenge['Salary'] * 0.1"
   ]
  },
  {
   "cell_type": "code",
   "execution_count": 9,
   "id": "a7731f39",
   "metadata": {
    "scrolled": true
   },
   "outputs": [
    {
     "data": {
      "text/html": [
       "<div>\n",
       "<style scoped>\n",
       "    .dataframe tbody tr th:only-of-type {\n",
       "        vertical-align: middle;\n",
       "    }\n",
       "\n",
       "    .dataframe tbody tr th {\n",
       "        vertical-align: top;\n",
       "    }\n",
       "\n",
       "    .dataframe thead th {\n",
       "        text-align: right;\n",
       "    }\n",
       "</style>\n",
       "<table border=\"1\" class=\"dataframe\">\n",
       "  <thead>\n",
       "    <tr style=\"text-align: right;\">\n",
       "      <th></th>\n",
       "      <th>First Name</th>\n",
       "      <th>Surname</th>\n",
       "      <th>Department</th>\n",
       "      <th>Salary</th>\n",
       "      <th>Employee_bonus</th>\n",
       "    </tr>\n",
       "  </thead>\n",
       "  <tbody>\n",
       "    <tr>\n",
       "      <th>0</th>\n",
       "      <td>Isabella</td>\n",
       "      <td>Garcia</td>\n",
       "      <td>Marketing</td>\n",
       "      <td>108268</td>\n",
       "      <td>10826.8</td>\n",
       "    </tr>\n",
       "    <tr>\n",
       "      <th>1</th>\n",
       "      <td>David</td>\n",
       "      <td>Garcia</td>\n",
       "      <td>Marketing</td>\n",
       "      <td>83567</td>\n",
       "      <td>8356.7</td>\n",
       "    </tr>\n",
       "    <tr>\n",
       "      <th>2</th>\n",
       "      <td>Isabella</td>\n",
       "      <td>Smith</td>\n",
       "      <td>Marketing</td>\n",
       "      <td>82613</td>\n",
       "      <td>8261.3</td>\n",
       "    </tr>\n",
       "    <tr>\n",
       "      <th>3</th>\n",
       "      <td>Jane</td>\n",
       "      <td>Jones</td>\n",
       "      <td>HR</td>\n",
       "      <td>85891</td>\n",
       "      <td>8589.1</td>\n",
       "    </tr>\n",
       "    <tr>\n",
       "      <th>4</th>\n",
       "      <td>Emma</td>\n",
       "      <td>Wilson</td>\n",
       "      <td>Finance</td>\n",
       "      <td>61243</td>\n",
       "      <td>6124.3</td>\n",
       "    </tr>\n",
       "  </tbody>\n",
       "</table>\n",
       "</div>"
      ],
      "text/plain": [
       "  First Name Surname Department  Salary  Employee_bonus\n",
       "0   Isabella  Garcia  Marketing  108268         10826.8\n",
       "1      David  Garcia  Marketing   83567          8356.7\n",
       "2   Isabella   Smith  Marketing   82613          8261.3\n",
       "3       Jane   Jones         HR   85891          8589.1\n",
       "4       Emma  Wilson    Finance   61243          6124.3"
      ]
     },
     "execution_count": 9,
     "metadata": {},
     "output_type": "execute_result"
    }
   ],
   "source": [
    "employee_2challenge.head()"
   ]
  },
  {
   "cell_type": "markdown",
   "id": "147a1193",
   "metadata": {},
   "source": [
    "# 12. What is the total compensation (salary + bonus) for each employee"
   ]
  },
  {
   "cell_type": "code",
   "execution_count": 11,
   "id": "db2e46ce",
   "metadata": {},
   "outputs": [],
   "source": [
    "employee_2challenge['Total_Compesation'] = employee_2challenge['Salary'] +  employee_2challenge['Employee_bonus']"
   ]
  },
  {
   "cell_type": "code",
   "execution_count": 13,
   "id": "6a18fffb",
   "metadata": {},
   "outputs": [
    {
     "data": {
      "text/html": [
       "<div>\n",
       "<style scoped>\n",
       "    .dataframe tbody tr th:only-of-type {\n",
       "        vertical-align: middle;\n",
       "    }\n",
       "\n",
       "    .dataframe tbody tr th {\n",
       "        vertical-align: top;\n",
       "    }\n",
       "\n",
       "    .dataframe thead th {\n",
       "        text-align: right;\n",
       "    }\n",
       "</style>\n",
       "<table border=\"1\" class=\"dataframe\">\n",
       "  <thead>\n",
       "    <tr style=\"text-align: right;\">\n",
       "      <th></th>\n",
       "      <th>First Name</th>\n",
       "      <th>Surname</th>\n",
       "      <th>Department</th>\n",
       "      <th>Salary</th>\n",
       "      <th>Employee_bonus</th>\n",
       "      <th>Total_Compesation</th>\n",
       "    </tr>\n",
       "  </thead>\n",
       "  <tbody>\n",
       "    <tr>\n",
       "      <th>0</th>\n",
       "      <td>Isabella</td>\n",
       "      <td>Garcia</td>\n",
       "      <td>Marketing</td>\n",
       "      <td>108268</td>\n",
       "      <td>10826.8</td>\n",
       "      <td>119094.8</td>\n",
       "    </tr>\n",
       "    <tr>\n",
       "      <th>1</th>\n",
       "      <td>David</td>\n",
       "      <td>Garcia</td>\n",
       "      <td>Marketing</td>\n",
       "      <td>83567</td>\n",
       "      <td>8356.7</td>\n",
       "      <td>91923.7</td>\n",
       "    </tr>\n",
       "    <tr>\n",
       "      <th>2</th>\n",
       "      <td>Isabella</td>\n",
       "      <td>Smith</td>\n",
       "      <td>Marketing</td>\n",
       "      <td>82613</td>\n",
       "      <td>8261.3</td>\n",
       "      <td>90874.3</td>\n",
       "    </tr>\n",
       "    <tr>\n",
       "      <th>3</th>\n",
       "      <td>Jane</td>\n",
       "      <td>Jones</td>\n",
       "      <td>HR</td>\n",
       "      <td>85891</td>\n",
       "      <td>8589.1</td>\n",
       "      <td>94480.1</td>\n",
       "    </tr>\n",
       "    <tr>\n",
       "      <th>4</th>\n",
       "      <td>Emma</td>\n",
       "      <td>Wilson</td>\n",
       "      <td>Finance</td>\n",
       "      <td>61243</td>\n",
       "      <td>6124.3</td>\n",
       "      <td>67367.3</td>\n",
       "    </tr>\n",
       "  </tbody>\n",
       "</table>\n",
       "</div>"
      ],
      "text/plain": [
       "  First Name Surname Department  Salary  Employee_bonus  Total_Compesation\n",
       "0   Isabella  Garcia  Marketing  108268         10826.8           119094.8\n",
       "1      David  Garcia  Marketing   83567          8356.7            91923.7\n",
       "2   Isabella   Smith  Marketing   82613          8261.3            90874.3\n",
       "3       Jane   Jones         HR   85891          8589.1            94480.1\n",
       "4       Emma  Wilson    Finance   61243          6124.3            67367.3"
      ]
     },
     "execution_count": 13,
     "metadata": {},
     "output_type": "execute_result"
    }
   ],
   "source": [
    "employee_2challenge.head()"
   ]
  },
  {
   "cell_type": "code",
   "execution_count": 15,
   "id": "7aa1d116",
   "metadata": {},
   "outputs": [],
   "source": [
    "employee_2challenge.to_csv('Classwork_Pandas_Part2')"
   ]
  },
  {
   "cell_type": "code",
   "execution_count": null,
   "id": "3c41a2d9",
   "metadata": {},
   "outputs": [],
   "source": []
  }
 ],
 "metadata": {
  "kernelspec": {
   "display_name": "Python 3 (ipykernel)",
   "language": "python",
   "name": "python3"
  },
  "language_info": {
   "codemirror_mode": {
    "name": "ipython",
    "version": 3
   },
   "file_extension": ".py",
   "mimetype": "text/x-python",
   "name": "python",
   "nbconvert_exporter": "python",
   "pygments_lexer": "ipython3",
   "version": "3.10.9"
  }
 },
 "nbformat": 4,
 "nbformat_minor": 5
}
