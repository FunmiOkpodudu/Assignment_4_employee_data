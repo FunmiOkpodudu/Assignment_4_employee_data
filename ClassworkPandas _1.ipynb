{
 "cells": [
  {
   "cell_type": "code",
   "execution_count": 1,
   "id": "1af0c5f9",
   "metadata": {},
   "outputs": [],
   "source": [
    "import pandas as pd"
   ]
  },
  {
   "cell_type": "code",
   "execution_count": 4,
   "id": "6d1a0777",
   "metadata": {},
   "outputs": [],
   "source": [
    "employee_data_pro = pd.read_csv('employee_data.csv')"
   ]
  },
  {
   "cell_type": "markdown",
   "id": "b6d9603b",
   "metadata": {},
   "source": [
    "# 1. How many employees are there in the dataset?"
   ]
  },
  {
   "cell_type": "code",
   "execution_count": 5,
   "id": "bbf44848",
   "metadata": {},
   "outputs": [
    {
     "data": {
      "text/plain": [
       "600"
      ]
     },
     "execution_count": 5,
     "metadata": {},
     "output_type": "execute_result"
    }
   ],
   "source": [
    "len(employee_data_pro) #this function gives us hoe many employees are in the data set"
   ]
  },
  {
   "cell_type": "markdown",
   "id": "327661c0",
   "metadata": {},
   "source": [
    "# 3. What is the highest salary among the employees"
   ]
  },
  {
   "cell_type": "code",
   "execution_count": 19,
   "id": "0694dff7",
   "metadata": {},
   "outputs": [
    {
     "data": {
      "text/plain": [
       "149794"
      ]
     },
     "execution_count": 19,
     "metadata": {},
     "output_type": "execute_result"
    }
   ],
   "source": [
    "employee_data_pro['Salary'].max()  "
   ]
  },
  {
   "cell_type": "markdown",
   "id": "99c05bb7",
   "metadata": {},
   "source": [
    "# 5 Which department has the highest average salary"
   ]
  },
  {
   "cell_type": "code",
   "execution_count": 27,
   "id": "59c37054",
   "metadata": {},
   "outputs": [
    {
     "data": {
      "text/html": [
       "<div>\n",
       "<style scoped>\n",
       "    .dataframe tbody tr th:only-of-type {\n",
       "        vertical-align: middle;\n",
       "    }\n",
       "\n",
       "    .dataframe tbody tr th {\n",
       "        vertical-align: top;\n",
       "    }\n",
       "\n",
       "    .dataframe thead th {\n",
       "        text-align: right;\n",
       "    }\n",
       "</style>\n",
       "<table border=\"1\" class=\"dataframe\">\n",
       "  <thead>\n",
       "    <tr style=\"text-align: right;\">\n",
       "      <th></th>\n",
       "      <th>Salary</th>\n",
       "    </tr>\n",
       "    <tr>\n",
       "      <th>Department</th>\n",
       "      <th></th>\n",
       "    </tr>\n",
       "  </thead>\n",
       "  <tbody>\n",
       "    <tr>\n",
       "      <th>Engineering</th>\n",
       "      <td>93146.666667</td>\n",
       "    </tr>\n",
       "    <tr>\n",
       "      <th>Finance</th>\n",
       "      <td>95251.266187</td>\n",
       "    </tr>\n",
       "    <tr>\n",
       "      <th>HR</th>\n",
       "      <td>99133.098361</td>\n",
       "    </tr>\n",
       "    <tr>\n",
       "      <th>Marketing</th>\n",
       "      <td>99817.094828</td>\n",
       "    </tr>\n",
       "    <tr>\n",
       "      <th>Sales</th>\n",
       "      <td>100416.000000</td>\n",
       "    </tr>\n",
       "  </tbody>\n",
       "</table>\n",
       "</div>"
      ],
      "text/plain": [
       "                    Salary\n",
       "Department                \n",
       "Engineering   93146.666667\n",
       "Finance       95251.266187\n",
       "HR            99133.098361\n",
       "Marketing     99817.094828\n",
       "Sales        100416.000000"
      ]
     },
     "execution_count": 27,
     "metadata": {},
     "output_type": "execute_result"
    }
   ],
   "source": [
    "Highest_Average_Department = (employee_data_pro.groupby('Department').agg({'Salary':'mean'}))\n",
    "Highest_Average_Department"
   ]
  },
  {
   "cell_type": "code",
   "execution_count": 31,
   "id": "2207174f",
   "metadata": {},
   "outputs": [
    {
     "data": {
      "text/plain": [
       "100416.0"
      ]
     },
     "execution_count": 31,
     "metadata": {},
     "output_type": "execute_result"
    }
   ],
   "source": [
    "Highest_Average_Department['Salary'].max()"
   ]
  },
  {
   "cell_type": "markdown",
   "id": "ce933edb",
   "metadata": {},
   "source": [
    "# 6. What is the total salary expenditure for the company"
   ]
  },
  {
   "cell_type": "code",
   "execution_count": 32,
   "id": "486778f4",
   "metadata": {},
   "outputs": [
    {
     "data": {
      "text/plain": [
       "58542435"
      ]
     },
     "execution_count": 32,
     "metadata": {},
     "output_type": "execute_result"
    }
   ],
   "source": [
    "employee_data_pro['Salary'].sum()"
   ]
  },
  {
   "cell_type": "markdown",
   "id": "6bb70756",
   "metadata": {},
   "source": [
    "# 7. How many employees are in each department"
   ]
  },
  {
   "cell_type": "code",
   "execution_count": 33,
   "id": "07fbdecc",
   "metadata": {},
   "outputs": [],
   "source": [
    "employee_data_depart = (employee_data_pro.groupby('Department').agg({'First Name':'count'}))"
   ]
  },
  {
   "cell_type": "code",
   "execution_count": 34,
   "id": "59d48ccb",
   "metadata": {},
   "outputs": [
    {
     "data": {
      "text/html": [
       "<div>\n",
       "<style scoped>\n",
       "    .dataframe tbody tr th:only-of-type {\n",
       "        vertical-align: middle;\n",
       "    }\n",
       "\n",
       "    .dataframe tbody tr th {\n",
       "        vertical-align: top;\n",
       "    }\n",
       "\n",
       "    .dataframe thead th {\n",
       "        text-align: right;\n",
       "    }\n",
       "</style>\n",
       "<table border=\"1\" class=\"dataframe\">\n",
       "  <thead>\n",
       "    <tr style=\"text-align: right;\">\n",
       "      <th></th>\n",
       "      <th>First Name</th>\n",
       "    </tr>\n",
       "    <tr>\n",
       "      <th>Department</th>\n",
       "      <th></th>\n",
       "    </tr>\n",
       "  </thead>\n",
       "  <tbody>\n",
       "    <tr>\n",
       "      <th>Engineering</th>\n",
       "      <td>105</td>\n",
       "    </tr>\n",
       "    <tr>\n",
       "      <th>Finance</th>\n",
       "      <td>139</td>\n",
       "    </tr>\n",
       "    <tr>\n",
       "      <th>HR</th>\n",
       "      <td>122</td>\n",
       "    </tr>\n",
       "    <tr>\n",
       "      <th>Marketing</th>\n",
       "      <td>116</td>\n",
       "    </tr>\n",
       "    <tr>\n",
       "      <th>Sales</th>\n",
       "      <td>118</td>\n",
       "    </tr>\n",
       "  </tbody>\n",
       "</table>\n",
       "</div>"
      ],
      "text/plain": [
       "             First Name\n",
       "Department             \n",
       "Engineering         105\n",
       "Finance             139\n",
       "HR                  122\n",
       "Marketing           116\n",
       "Sales               118"
      ]
     },
     "execution_count": 34,
     "metadata": {},
     "output_type": "execute_result"
    }
   ],
   "source": [
    "employee_data_depart"
   ]
  }
 ],
 "metadata": {
  "kernelspec": {
   "display_name": "Python 3 (ipykernel)",
   "language": "python",
   "name": "python3"
  },
  "language_info": {
   "codemirror_mode": {
    "name": "ipython",
    "version": 3
   },
   "file_extension": ".py",
   "mimetype": "text/x-python",
   "name": "python",
   "nbconvert_exporter": "python",
   "pygments_lexer": "ipython3",
   "version": "3.10.9"
  }
 },
 "nbformat": 4,
 "nbformat_minor": 5
}
